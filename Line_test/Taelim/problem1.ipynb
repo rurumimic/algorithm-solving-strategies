{
 "cells": [
  {
   "cell_type": "code",
   "execution_count": 10,
   "metadata": {
    "collapsed": false
   },
   "outputs": [
    {
     "name": "stdout",
     "output_type": "stream",
     "text": [
      "2\n",
      "AAAAAADDC\n",
      "6A2D1C\n",
      "WWWWWBWBW\n",
      "5W1B1W1B1W\n"
     ]
    }
   ],
   "source": [
    "# kakao 1\n",
    "\n",
    "if __name__==\"__main__\":\n",
    "    T = int(input())\n",
    "    \n",
    "    count = 0\n",
    "    same_char = \"\"\n",
    "    ans = \"\"\n",
    "    for _ in range(T):\n",
    "        string_arr = input()\n",
    "        for c in string_arr:\n",
    "            if same_char == \"\":\n",
    "                same_char = c\n",
    "                count = 1\n",
    "            elif same_char == c:\n",
    "                count += 1\n",
    "            elif same_char != c:\n",
    "                ans += str(count)\n",
    "                ans += same_char\n",
    "                same_char = c\n",
    "                count = 1\n",
    "        ans += str(count)\n",
    "        ans += same_char\n",
    "        same_char = \"\"\n",
    "        count = 0\n",
    "        print(ans)\n",
    "        ans = \"\"\n",
    "    "
   ]
  },
  {
   "cell_type": "code",
   "execution_count": null,
   "metadata": {
    "collapsed": true
   },
   "outputs": [],
   "source": []
  }
 ],
 "metadata": {
  "kernelspec": {
   "display_name": "Python 3",
   "language": "python",
   "name": "python3"
  },
  "language_info": {
   "codemirror_mode": {
    "name": "ipython",
    "version": 3
   },
   "file_extension": ".py",
   "mimetype": "text/x-python",
   "name": "python",
   "nbconvert_exporter": "python",
   "pygments_lexer": "ipython3",
   "version": "3.6.0"
  }
 },
 "nbformat": 4,
 "nbformat_minor": 2
}
