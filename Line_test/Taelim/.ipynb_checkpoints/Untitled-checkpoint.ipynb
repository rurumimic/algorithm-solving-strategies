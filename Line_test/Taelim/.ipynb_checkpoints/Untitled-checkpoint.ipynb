{
 "cells": [
  {
   "cell_type": "code",
   "execution_count": null,
   "metadata": {
    "collapsed": true
   },
   "outputs": [],
   "source": [
    "if __name__==\"__main__\":\n",
    "    T = input()\n",
    "    string_arr = input()\n",
    "    count = 0\n",
    "    same_char = \"\"\n",
    "    ans = \"\"\n",
    "    for _ in range(T):\n",
    "        for c in string_arr:\n",
    "            if same_char == \"\":\n",
    "                same_char = c\n",
    "                count = 1\n",
    "            elif same_char == c:\n",
    "                count++\n",
    "            elif same_char != c:\n",
    "                ans += count\n",
    "                ans += same_char\n",
    "                same_char = c\n",
    "                count = 1\n",
    "        print(ans)\n",
    "    "
   ]
  }
 ],
 "metadata": {
  "kernelspec": {
   "display_name": "Python 3",
   "language": "python",
   "name": "python3"
  },
  "language_info": {
   "codemirror_mode": {
    "name": "ipython",
    "version": 3
   },
   "file_extension": ".py",
   "mimetype": "text/x-python",
   "name": "python",
   "nbconvert_exporter": "python",
   "pygments_lexer": "ipython3",
   "version": "3.6.0"
  }
 },
 "nbformat": 4,
 "nbformat_minor": 2
}
